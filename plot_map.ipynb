{
 "cells": [
  {
   "cell_type": "markdown",
   "id": "f0cbafd1-843f-40ae-a776-9fff72512117",
   "metadata": {},
   "source": [
    "## Import neophodnih biblioteka "
   ]
  },
  {
   "cell_type": "code",
   "execution_count": null,
   "id": "7c94442d-32fe-4270-8aef-2758251c5240",
   "metadata": {},
   "outputs": [],
   "source": [
    "import matplotlib.pyplot as plt\n",
    "import xarray as xr\n",
    "import netCDF4\n",
    "import numpy as np"
   ]
  },
  {
   "cell_type": "code",
   "execution_count": null,
   "id": "61b3e46f-5f7b-4edc-bbce-9ece3e275ae5",
   "metadata": {},
   "outputs": [],
   "source": [
    "print('cao')"
   ]
  },
  {
   "cell_type": "markdown",
   "id": "213fc00d-c000-48b7-944a-2b9667de70f1",
   "metadata": {},
   "source": [
    "# Učitavanje fajlova koji su u netCDF formatu "
   ]
  },
  {
   "cell_type": "markdown",
   "id": "c5aec577-99d8-437b-a2ad-b338700369f1",
   "metadata": {},
   "source": [
    "## Učitavanje pomoću biblioteke netCDF4"
   ]
  },
  {
   "cell_type": "markdown",
   "id": "c37de55c-db17-4fb9-b994-96735824db16",
   "metadata": {},
   "source": [
    "Instrukcije i dokumentaciju za biblioteku netCDF verzija 4 možete naći [ovde](https://pypi.org/project/netCDF4/) .\n",
    "Najpre otvaramo fajl sa kojim želimo da radimo:"
   ]
  },
  {
   "cell_type": "code",
   "execution_count": null,
   "id": "00b6fc1c-d752-4967-855d-985c145361ca",
   "metadata": {},
   "outputs": [],
   "source": [
    "infile = netCDF4.Dataset(\"obs_tr_vre_1950-2020_na_na_na_g_eobs.nc\")\n",
    "print(infile)"
   ]
  },
  {
   "cell_type": "code",
   "execution_count": null,
   "id": "80a77b91-876a-463b-96d8-66a75114990e",
   "metadata": {},
   "outputs": [],
   "source": [
    "var = infile.variables[\"tr\"]\n",
    "print(var)\n",
    "\n",
    "infile.close()"
   ]
  },
  {
   "cell_type": "markdown",
   "id": "4490aa51-f0e2-4cd0-82b5-5fc8f9b9663c",
   "metadata": {},
   "source": [
    "## Učitavanje pomoću biblioteke xarray \n",
    "\n",
    "Instrukcije i dokumentaciju za biblioteku xarray možete naći [ovde](https://docs.xarray.dev/en/stable/user-guide/weather-climate.html) ."
   ]
  },
  {
   "cell_type": "code",
   "execution_count": null,
   "id": "e7ca7b1e-6b7f-4512-a83d-1aa7b3403f11",
   "metadata": {
    "scrolled": true
   },
   "outputs": [],
   "source": [
    "infile = xr.open_dataset(\"obs_tr_vre_1950-2020_na_na_na_g_eobs.nc\")\n",
    "print(infile)"
   ]
  },
  {
   "cell_type": "markdown",
   "id": "b5dd321b-3d77-46bd-a395-3dda373a25f0",
   "metadata": {},
   "source": [
    "### Osnovno indeksiranje"
   ]
  },
  {
   "cell_type": "code",
   "execution_count": null,
   "id": "c6aa10c6-2293-4fc4-8f49-2f8456c97b5b",
   "metadata": {},
   "outputs": [],
   "source": [
    "var = infile.tr \n",
    "var_subset = var[1:10,:,0]\n",
    "print(var)\n",
    "print(var.shape)\n",
    "print(var_subset.shape)"
   ]
  },
  {
   "cell_type": "markdown",
   "id": "c0a294b4-5de9-4662-9d1f-b84e172a0165",
   "metadata": {},
   "source": [
    "### Korišćenje .sel( )\n",
    "\n"
   ]
  },
  {
   "cell_type": "markdown",
   "id": "db3f05f9-6207-457e-9457-51642d1a6e2f",
   "metadata": {},
   "source": [
    "U narednom primeru želimo da nađemo vrednosti tr na geografskoj širini od 44.8 i geografskoj dužini na 20.5 stepena - približno Beogradu. Ovo se radi pomoću metode [.sel()](https://docs.xarray.dev/en/stable/generated/xarray.DataArray.sel.html) koja se može izvesti nad Dataset ili DataArray-u. Ovaj metod omogućava odabir na osnovu koordinata, a ne indeksa.\r\n",
    "\r\n",
    "Međutim, nekada na tim tačnim lokacijama ne postoji određena koordinatna vrednost širine/dužine u fajlu. Na primer, pogledajte dostupne vrednosti geografske dužine:"
   ]
  },
  {
   "cell_type": "code",
   "execution_count": null,
   "id": "f8631947-3bae-4773-9f57-46166759a2ae",
   "metadata": {
    "scrolled": true
   },
   "outputs": [],
   "source": [
    "#shhdhdjdjdhhd\n",
    "infile.longitude\n",
    "infile.latitude"
   ]
  },
  {
   "cell_type": "markdown",
   "id": "0d82c08f-658b-4a8e-a361-a9cd5ad606b9",
   "metadata": {},
   "source": [
    "Zbog toga što ove tačne koordinate ne postoje u fajlu, metodi .sel dodajemo vrednost argumenta **\"method\"** i u ovom sličaju koristićemo tzv. \"nearest neighbour method\" :"
   ]
  },
  {
   "cell_type": "code",
   "execution_count": null,
   "id": "99e53dc8-b579-4f63-a93a-21bdc0b5bac6",
   "metadata": {},
   "outputs": [],
   "source": [
    "var.sel(longitude=20.5,latitude=44.8,method='nearest')"
   ]
  },
  {
   "cell_type": "markdown",
   "id": "8c663714-9543-4ba7-81c9-ee3d0d4d231d",
   "metadata": {},
   "source": [
    "Koordinatu \"time\", xarray dekodira autmatski:"
   ]
  },
  {
   "cell_type": "code",
   "execution_count": null,
   "id": "d263d879-b341-4854-abb4-5f4e42bad179",
   "metadata": {},
   "outputs": [],
   "source": [
    "infile.time"
   ]
  },
  {
   "cell_type": "markdown",
   "id": "72f53979-a17f-4c95-b14d-fc04c62e04ad",
   "metadata": {},
   "source": [
    "Koristeći .sel metod prikazan iznad, sada ćemo pronaći vrednosti tr tokom 2020. godine. Koje su dimenzije promenljive tr u ovom slučaju?"
   ]
  },
  {
   "cell_type": "code",
   "execution_count": null,
   "id": "b89e50a9-16a3-4901-bcb0-b3e815ac25ba",
   "metadata": {},
   "outputs": [],
   "source": [
    "var2020 = var.sel(time='2020')"
   ]
  },
  {
   "cell_type": "markdown",
   "id": "c1a78d68-2cba-4ce7-8f80-2d9146689726",
   "metadata": {},
   "source": [
    "## Crtanje mape pomoću biblioteke matplotlib"
   ]
  },
  {
   "cell_type": "markdown",
   "id": "98a5285f-b61b-4ecb-8443-3108ee31b5f2",
   "metadata": {},
   "source": [
    "Instrukcije i dokumentaciju za biblioteku matplotlib možete naći [ovde](https://matplotlib.org/) ."
   ]
  },
  {
   "cell_type": "markdown",
   "id": "eb27fe7c-ac93-40b2-a02c-bf6abd9173b8",
   "metadata": {},
   "source": [
    "Sada ćemo nacrtati mapu koja pokazuje broj tropskih noći za 2020. godinu, pomoću netCDF fajla koji smo već učitali. Crtanje grafika i mapa sa xarray je vrlo jednostavno. Automatski će bitidefinisane vrednosti osa i oznake na osnovu informacija sadržanih u samom input fajlu.\n",
    "Argumenti su promenljivi i postoji ogroman izbor podešavanja, biranja boja, oznaka itd. Na primer, listu sa imenima kolorbarova možete pronaći [ovde](https://matplotlib.org/stable/users/explain/colors/colormaps.html):"
   ]
  },
  {
   "cell_type": "code",
   "execution_count": null,
   "id": "128583b2-231d-4fdb-bae5-6b0f4cabdb92",
   "metadata": {},
   "outputs": [],
   "source": [
    "year='2013'\n",
    " \n",
    "var.sel(time=year).plot(cmap='coolwarm')\n",
    "plt.title('Broj tropskih noci 2013')\n",
    "plt.xlabel('longitude', fontweight='bold', color = 'orange', fontsize='11', horizontalalignment='center')\n",
    "plt.ylabel('latitude_zdravo', fontweight='bold', color = 'orange', fontsize='11', horizontalalignment='center')\n",
    "plt.savefig('obs_tr_vre_2020_na_na_na_g_eobs.png')"
   ]
  },
  {
   "cell_type": "markdown",
   "id": "c4cec919-eac3-4398-a11a-22d58351ef86",
   "metadata": {},
   "source": [
    "**Zadatak 1:** Nacrtati mapu broja mraznih dana (fajl se nalazi ovde: /disk1/picnic/python_vezbe/obs_fd_vre_1950-2020_na_na_na_g_eobs.nc). Za godinu odaberite godinu svog rođenja. Promenite kolorbar. "
   ]
  },
  {
   "cell_type": "code",
   "execution_count": null,
   "id": "5964e644-0714-47d9-940b-c0b9e72426e9",
   "metadata": {},
   "outputs": [],
   "source": [
    "###Dopuniti delove koji nedostaju u kodu\n",
    "###-------------------------\n",
    "infile = xr.open_dataset(\"\")\n",
    "###-------------------------\n",
    "\n",
    "print(infile)"
   ]
  },
  {
   "cell_type": "code",
   "execution_count": null,
   "id": "274b77ce-9ad9-42dc-83e8-76da8903ddd8",
   "metadata": {},
   "outputs": [],
   "source": [
    "###-------------\n",
    "var = \n",
    "year = \n",
    "var.sel(time=year).plot(cmap='')\n",
    "###--------------\n",
    "\n",
    "plt.title('Broj mraznih dana ' + year)\n",
    "plt.xlabel('')\n",
    "plt.ylabel('')\n"
   ]
  },
  {
   "cell_type": "markdown",
   "id": "d6aa5633-b77a-484a-9b6d-c08d9696eeef",
   "metadata": {},
   "source": [
    "**Zadatak 2:** Nacrtati grafik broja mraznih dana (u pitanju je isti input fajl koji ste otvorili u prvom zadatku i ista promenljiva) za neku odabranu lokaciju u Srbiji. Boju linije možete promeniti tako što ćete argumentu *color* dodeliti drugu vrednost umesto *'green'*, tj. ime neke druge boje, a listu dostupnih možete naći ovde: https://matplotlib.org/stable/gallery/color/named_colors.html"
   ]
  },
  {
   "cell_type": "code",
   "execution_count": null,
   "id": "3b1ccfe9-cab0-40c6-a6ec-d38ae56ba65a",
   "metadata": {},
   "outputs": [],
   "source": [
    "###Dopuniti delove koji nedostaju u kodu\n",
    "###-----------------------\n",
    "var.sel( , ,method='nearest').plot(color='green')\n",
    "plt.title('Broj mraznih dana za ...')\n",
    "###-----------------------\n",
    "\n",
    "plt.xlabel('vreme (godine)')\n",
    "plt.ylabel('Broj mraznih dana')\n"
   ]
  }
 ],
 "metadata": {
  "kernelspec": {
   "display_name": "Python 3 (ipykernel)",
   "language": "python",
   "name": "python3"
  },
  "language_info": {
   "codemirror_mode": {
    "name": "ipython",
    "version": 3
   },
   "file_extension": ".py",
   "mimetype": "text/x-python",
   "name": "python",
   "nbconvert_exporter": "python",
   "pygments_lexer": "ipython3",
   "version": "3.10.12"
  }
 },
 "nbformat": 4,
 "nbformat_minor": 5
}
